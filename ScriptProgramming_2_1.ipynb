{
 "cells": [
  {
   "cell_type": "markdown",
   "metadata": {},
   "source": [
    "<strong>문제 1번.</strong> (파운드를 킬로그램으로 변환하기) 파운드를 킬로그램으로 변환하는 프로그램을 작성하시오. 사용자로부터 파운드 값을 입력 받고 그 값을 킬로그램으로 변환하며 결과를 화면에 출력한다. 1파운드는 0.454킬로그램이다. 다음은 프로그램의 실행 예이다.<br>\n",
    " <br>\n",
    "파운드 값을 입력하세요: 55.5 (enter)<br>\n",
    "55.5 파운드는 25.197 킬로그램입니다.<br>\n"
   ]
  },
  {
   "cell_type": "code",
   "execution_count": 11,
   "metadata": {
    "collapsed": true
   },
   "outputs": [],
   "source": [
    "def change_to_kilogram():\n",
    "    val = eval(input(\"파운드 값을 입력하세요: \"))\n",
    "    result = val*0.454\n",
    "    print(val, \"파운드는\", result, \"킬로그램입니다.\")"
   ]
  },
  {
   "cell_type": "code",
   "execution_count": 13,
   "metadata": {},
   "outputs": [
    {
     "name": "stdout",
     "output_type": "stream",
     "text": [
      "파운드 값을 입력하세요: 55.5\n",
      "55.5 파운드는 25.197 킬로그램입니다.\n"
     ]
    }
   ],
   "source": [
    "change_to_kilogram()"
   ]
  },
  {
   "cell_type": "markdown",
   "metadata": {},
   "source": [
    "<strong>문제 2번.</strong> (정수의 자릿수 합산하기) 0과 1000 사이의 정수를 읽어서 각 자릿수의 합을 구하는 프로그램을 작성하시오. 예를 들어, 정수가 932라면 자릿수의 합은 14이다.(힌트: 자릿수를 추출하기 위해 % 연산자를 사용하고 추출된 자릿수를 없애기 위해 // 연산자를 사용하시오. 예를 들어, 932%10 = 2이고 932//10 = 93이다).<br>\n",
    " <br>\n",
    "0과 1000사이의 숫자를 입력하세요: 999 (enter)<br>\n",
    "각 자릿수의 합은 27입니다.<br>\n"
   ]
  },
  {
   "cell_type": "code",
   "execution_count": 14,
   "metadata": {
    "collapsed": true
   },
   "outputs": [],
   "source": [
    "def number_of_digits():\n",
    "    val = eval(input(\"0과 1000사이의 숫자를 입력하세요: \"))\n",
    "    if not(0<val and val<1000):\n",
    "        print(\"0부터 1000사이의 숫자를 입력하세요\")\n",
    "        return\n",
    "    else:\n",
    "        item = str(val)\n",
    "        sum = 0\n",
    "        for i in range(len(item)):\n",
    "            sum += int(item[i])\n",
    "        print(\"각 자릿수의 합은 \",sum, \"입니다.\")"
   ]
  },
  {
   "cell_type": "code",
   "execution_count": 15,
   "metadata": {},
   "outputs": [
    {
     "name": "stdout",
     "output_type": "stream",
     "text": [
      "0과 1000사이의 숫자를 입력하세요: 999\n",
      "각 자릿수의 합은  27 입니다.\n"
     ]
    }
   ],
   "source": [
    "number_of_digits()"
   ]
  },
  {
   "cell_type": "markdown",
   "metadata": {},
   "source": [
    "<strong>문제 3번.</strong> (년과 일수 계산하기) 분 값을 입력하고(예를 들어, 10억분), 그 값에 대한 년수와 일수를 출력하는 프로그램을 작성하시오. 단순 계산을 위해, 1년은 365일이라고 가정한다. 다음은 프로그램의 실행 예이다.<br>\n",
    " <br>\n",
    "분에 대한 숫자를 입력하세요: 1000000000 (enter)<br>\n",
    "1000000000분은 약 1902년 214일입니다.<br>\n"
   ]
  },
  {
   "cell_type": "code",
   "execution_count": 16,
   "metadata": {
    "collapsed": true
   },
   "outputs": [],
   "source": [
    "def year_day_cal():\n",
    "    val = eval(input(\"분에 대한 숫자를 입력하세요:\"))\n",
    "    day = ((val // 60)//24)%365\n",
    "    year = ((val // 60)//24)//365\n",
    "    print(val,\"분은 약\",year,\"년 \",day,\"일입니다.\")"
   ]
  },
  {
   "cell_type": "code",
   "execution_count": 17,
   "metadata": {},
   "outputs": [
    {
     "name": "stdout",
     "output_type": "stream",
     "text": [
      "분에 대한 숫자를 입력하세요:1000000000\n",
      "1000000000 분은 약 1902 년  214 일입니다.\n"
     ]
    }
   ],
   "source": [
    "year_day_cal()"
   ]
  },
  {
   "cell_type": "markdown",
   "metadata": {},
   "source": [
    "<strong>문제 4번.</strong> (기하: 삼각형의 넓이) 삼각형의 세 꼭지점 좌표 (x1, y1), (x2, y2), (x3, y3)를 입력하고 삼각형의 넓이를 출력하는 프로그램을 작성하시오.<br>\n",
    "S = (변1 + 변2 + 변3)/2<br>\n",
    "넓이 = <br>\n",
    "다음은 프로그램의 실행 예이다.<br>\n",
    " <br>\n",
    "삼각형의 세 꼭지점을 입력하세요: 1.5, -3.4, 4.6, 5, 9.5, -3.4<br>\n",
    "삼각형의 넓이는 33.6입니다.<br>\n"
   ]
  },
  {
   "cell_type": "code",
   "execution_count": 18,
   "metadata": {
    "collapsed": true
   },
   "outputs": [],
   "source": [
    "import math\n",
    "def area_of_triangle():\n",
    "    x1, y1, x2, y2, x3, y3 = eval(input(\"삼각형의 세 꼭지점을 입력하세요:\"))\n",
    "    s1 = math.sqrt(pow(abs(x1-x2),2)+pow(abs(y1-y2), 2))\n",
    "    s2 = math.sqrt(pow(abs(x2-x3),2)+pow(abs(y2-y3), 2))\n",
    "    s3 = math.sqrt(pow(abs(x1-x3),2)+pow(abs(y1-y3), 2))\n",
    "    s = (s1+s2+s3)/2\n",
    "    area = math.sqrt(s*(s-s1)*(s-s2)*(s-s3))\n",
    "    print(\"삼각형의 넓이는 \",area,\"입니다.\")"
   ]
  },
  {
   "cell_type": "code",
   "execution_count": 19,
   "metadata": {},
   "outputs": [
    {
     "name": "stdout",
     "output_type": "stream",
     "text": [
      "삼각형의 세 꼭지점을 입력하세요:1.5, -3.4, 4.6, 5, 9.5, -3.4\n",
      "삼각형의 넓이는  33.600000000000016 입니다.\n"
     ]
    }
   ],
   "source": [
    "area_of_triangle()"
   ]
  },
  {
   "cell_type": "markdown",
   "metadata": {},
   "source": [
    "<strong>문제 5번.</strong> (현재 시간) 예제 코드 ShowCurrentTime.py는 현재 시간을 GMT를 기준으로 출력하는 프로그램이다. GMT와 시간대 차이(time zone offset)의 시간 값을 사용자로부터 입력 받고, 지정된 시간대로 현재 시간이 출력되도록 프로그램을 작성하시오. 다음은 프로그램의 실행 예이다.<br>\n",
    " <br>\n",
    "GMT와 시간대 차이를 입력하세요: -5 (enter)<br>\n",
    "현재 시간은 4:50:34 입니다.<br>\n"
   ]
  },
  {
   "cell_type": "code",
   "execution_count": 23,
   "metadata": {
    "collapsed": true
   },
   "outputs": [],
   "source": [
    "def current_time():\n",
    "    val = eval(input(\"GMT와 시간대 차이를 입력하세요:\"))\n",
    "    import time\n",
    "    currentTime = time.time() # 현재 시간을 얻어온다.\n",
    "\n",
    "    # 1970년 1월 1일 자정 이후로의 전체 초 값을 얻어온다.\n",
    "    totalSeconds = int(currentTime)\n",
    "\n",
    "    # 현재 시간의 초 값을 계산한다.\n",
    "    currentSecond = totalSeconds % 60\n",
    "\n",
    "    # 전체 분 값을 계산한다.\n",
    "    totalMinutes = totalSeconds // 60\n",
    "\n",
    "    # 현재 시간의 분 값을 계산한다.\n",
    "    currentMinute = totalMinutes % 60\n",
    "\n",
    "    # 전체 시 값을 계산한다.\n",
    "    totalHours = totalMinutes // 60\n",
    "\n",
    "    # 현재 시간의 시 값을 계산한다.\n",
    "    currentHour = (totalHours % 24)\n",
    "\n",
    "    # 결과를 출력한다.\n",
    "    print(\"현재 시간은\" + str(currentHour+val) + \":\"\n",
    "        + str(currentMinute) + \":\" + str(currentSecond) + \" GMT 입니다.\")"
   ]
  },
  {
   "cell_type": "code",
   "execution_count": 24,
   "metadata": {},
   "outputs": [
    {
     "name": "stdout",
     "output_type": "stream",
     "text": [
      "GMT와 시간대 차이를 입력하세요:-5\n",
      "현재 시간은-3:49:8 GMT 입니다.\n"
     ]
    }
   ],
   "source": [
    "current_time()"
   ]
  },
  {
   "cell_type": "markdown",
   "metadata": {},
   "source": [
    "<strong>문제 6번.</strong> (금융 애플리케이션: 이자 계산하기) 계좌 잔고와 연이율(%)을 알고 있다면, 다음 수식을 사용하여 다음 달 상환금에 대한 이자를 계산할 수 있다.<br>\n",
    "이자 = 잔고 * (연이율 / 1200)<br>\n",
    "잔고와 연이율(%)을 읽고 다음 달 상환금에 대한 이자를 화면에 출력하는 프로그램을 작성하시오. 다음은 프로그램의 실행 예이다.<br>\n",
    " <br>\n",
    "잔고와 연이율을 입력하세요(예. 3%는 3으로): 1000, 3.5 (enter)<br>\n",
    "이자는2916.66입니다.<br>\n"
   ]
  },
  {
   "cell_type": "code",
   "execution_count": 27,
   "metadata": {},
   "outputs": [
    {
     "name": "stdout",
     "output_type": "stream",
     "text": [
      "잔고와 연이율을 입력하세요(예. 3%는 3으로):1000, 3.5\n"
     ]
    }
   ],
   "source": [
    "balance, annual_rate = eval(input(\"잔고와 연이율을 입력하세요(예. 3%는 3으로):\"))"
   ]
  },
  {
   "cell_type": "code",
   "execution_count": 28,
   "metadata": {},
   "outputs": [
    {
     "name": "stdout",
     "output_type": "stream",
     "text": [
      "2916.666666666667\n"
     ]
    }
   ],
   "source": [
    "interest = (balance * (annual_rate/1200))*1000\n",
    "print(interest)"
   ]
  },
  {
   "cell_type": "code",
   "execution_count": 29,
   "metadata": {
    "collapsed": true
   },
   "outputs": [],
   "source": [
    "def cal_interest():\n",
    "    balance, annual_rate = eval(input(\"잔고와 연이율을 입력하세요(예. 3%는 3으로):\"))\n",
    "    interest = (balance * (annual_rate/1200))*1000\n",
    "    print(\"이자는\",interest,\"입니다.\")"
   ]
  },
  {
   "cell_type": "code",
   "execution_count": 30,
   "metadata": {},
   "outputs": [
    {
     "name": "stdout",
     "output_type": "stream",
     "text": [
      "잔고와 연이율을 입력하세요(예. 3%는 3으로):1000, 3.5\n",
      "이자는 2916.666666666667 입니다.\n"
     ]
    }
   ],
   "source": [
    "cal_interest()"
   ]
  }
 ],
 "metadata": {
  "kernelspec": {
   "display_name": "Python 3",
   "language": "python",
   "name": "python3"
  },
  "language_info": {
   "codemirror_mode": {
    "name": "ipython",
    "version": 3
   },
   "file_extension": ".py",
   "mimetype": "text/x-python",
   "name": "python",
   "nbconvert_exporter": "python",
   "pygments_lexer": "ipython3",
   "version": "3.6.1"
  }
 },
 "nbformat": 4,
 "nbformat_minor": 2
}
